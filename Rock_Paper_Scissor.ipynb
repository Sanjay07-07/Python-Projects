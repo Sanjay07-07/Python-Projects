{
 "cells": [
  {
   "cell_type": "code",
   "execution_count": 9,
   "metadata": {},
   "outputs": [],
   "source": [
    "import random"
   ]
  },
  {
   "cell_type": "code",
   "execution_count": 15,
   "metadata": {},
   "outputs": [
    {
     "name": "stdout",
     "output_type": "stream",
     "text": [
      "Type Rock/Paper/Scissors or Q to quit: rock\n",
      "Computer picked rock.\n",
      "It's a Draw!\n",
      "Type Rock/Paper/Scissors or Q to quit: paper\n",
      "Computer picked rock.\n",
      "You won!\n",
      "Type Rock/Paper/Scissors or Q to quit: rock\n",
      "Computer picked rock.\n",
      "It's a Draw!\n",
      "Type Rock/Paper/Scissors or Q to quit: paper\n",
      "Computer picked scissors.\n",
      "You lost!\n",
      "Type Rock/Paper/Scissors or Q to quit: scissors\n",
      "Computer picked paper.\n",
      "You won!\n",
      "Type Rock/Paper/Scissors or Q to quit: paper\n",
      "Computer picked rock.\n",
      "You won!\n",
      "Type Rock/Paper/Scissors or Q to quit: rock\n",
      "Computer picked paper.\n",
      "You lost!\n",
      "Type Rock/Paper/Scissors or Q to quit: q\n",
      "\n",
      "You won 3 times.\n",
      "Computer won 2 times.\n",
      "\n",
      "Good-bye!\n"
     ]
    }
   ],
   "source": [
    "user_wins = 0\n",
    "computer_wins = 0\n",
    "\n",
    "options = [\"rock\", \"paper\", \"scissors\"]\n",
    "\n",
    "while True:\n",
    "    user_input = input(\"Type Rock/Paper/Scissors or Q to quit: \").lower()\n",
    "    if user_input == \"q\":\n",
    "        break\n",
    "        \n",
    "    if user_input not in options:\n",
    "        continue\n",
    "    \n",
    "    random_number = random.randint(0, 2)\n",
    "    #0-Rock | 1-Paper | 2-Scissors\n",
    "    computer_pick = options[random_number]\n",
    "    print(\"Computer picked\", computer_pick + \".\")\n",
    "    \n",
    "    if user_input == \"rock\" and computer_pick == \"scissors\":\n",
    "        print(\"You won!\")\n",
    "        user_wins += 1\n",
    "        \n",
    "    elif user_input == \"paper\" and computer_pick == \"rock\":\n",
    "        print(\"You won!\")\n",
    "        user_wins += 1 \n",
    "        \n",
    "    elif user_input == \"scissors\" and computer_pick == \"paper\":\n",
    "        print(\"You won!\")\n",
    "        user_wins += 1\n",
    "        \n",
    "    elif user_input == \"rock\" and computer_pick == \"rock\":\n",
    "        print(\"It's a Draw!\")\n",
    "        \n",
    "    elif user_input == \"paper\" and computer_pick == \"paper\":\n",
    "        print(\"It's a Draw!\")\n",
    "        \n",
    "    elif user_input == \"scissors\" and computer_pick == \"scissors\":\n",
    "        print(\"It's a Draw!\")\n",
    "        \n",
    "    else:\n",
    "        print(\"You lost!\")\n",
    "        computer_wins += 1\n",
    "        \n",
    "print(\"\\nYou won\", user_wins, \"times.\")\n",
    "print(\"Computer won\", computer_wins, \"times.\") \n",
    "print(\"\\nGood-bye!\")"
   ]
  },
  {
   "cell_type": "code",
   "execution_count": null,
   "metadata": {},
   "outputs": [],
   "source": []
  },
  {
   "cell_type": "code",
   "execution_count": null,
   "metadata": {},
   "outputs": [],
   "source": []
  }
 ],
 "metadata": {
  "kernelspec": {
   "display_name": "Python 3",
   "language": "python",
   "name": "python3"
  },
  "language_info": {
   "codemirror_mode": {
    "name": "ipython",
    "version": 3
   },
   "file_extension": ".py",
   "mimetype": "text/x-python",
   "name": "python",
   "nbconvert_exporter": "python",
   "pygments_lexer": "ipython3",
   "version": "3.8.5"
  }
 },
 "nbformat": 4,
 "nbformat_minor": 4
}
